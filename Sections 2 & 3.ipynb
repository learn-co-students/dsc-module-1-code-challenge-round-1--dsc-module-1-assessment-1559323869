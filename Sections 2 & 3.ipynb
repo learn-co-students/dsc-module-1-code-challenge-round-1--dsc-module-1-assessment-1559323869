{
 "cells": [
  {
   "cell_type": "markdown",
   "metadata": {},
   "source": [
    "# Section 2: PANDAS and Visualization"
   ]
  },
  {
   "cell_type": "markdown",
   "metadata": {},
   "source": [
    "In this section you will be doing some preprocessing and exploratory data analysis for a dataset for the videogame FIFA19.  The dataset contains both data for the game as well as information about the players' real life careers.  You will be building toward running a regression. "
   ]
  },
  {
   "cell_type": "markdown",
   "metadata": {},
   "source": [
    "### 1. Read the two CSV files and then concatenate them\n",
    "File paths are provided.\n",
    "Check your dataframe with `df.head()`\n",
    "\n",
    "https://www.kaggle.com/karangadiya/fifa19"
   ]
  },
  {
   "cell_type": "code",
   "execution_count": 1,
   "metadata": {},
   "outputs": [],
   "source": [
    "import pandas as pd\n",
    "import numpy as np\n",
    "import warnings\n",
    "warnings.filterwarnings('ignore')\n",
    "filepaths = ['data/fifa_19_part_one.csv','data/fifa_19_part_two.csv']"
   ]
  },
  {
   "cell_type": "code",
   "execution_count": 2,
   "metadata": {},
   "outputs": [],
   "source": [
    "# CODE HERE\n",
    "def get_fifa_data():\n",
    "    '''\n",
    "    inputs: none\n",
    "    ----\n",
    "    returns: combined dataframe\n",
    "    '''\n",
    "    return pd.concat(pd.read_csv(path) for path in filepaths)"
   ]
  },
  {
   "cell_type": "code",
   "execution_count": 3,
   "metadata": {},
   "outputs": [
    {
     "data": {
      "text/html": [
       "<div>\n",
       "<style scoped>\n",
       "    .dataframe tbody tr th:only-of-type {\n",
       "        vertical-align: middle;\n",
       "    }\n",
       "\n",
       "    .dataframe tbody tr th {\n",
       "        vertical-align: top;\n",
       "    }\n",
       "\n",
       "    .dataframe thead th {\n",
       "        text-align: right;\n",
       "    }\n",
       "</style>\n",
       "<table border=\"1\" class=\"dataframe\">\n",
       "  <thead>\n",
       "    <tr style=\"text-align: right;\">\n",
       "      <th></th>\n",
       "      <th>ID</th>\n",
       "      <th>Name</th>\n",
       "      <th>Age</th>\n",
       "      <th>Photo</th>\n",
       "      <th>Nationality</th>\n",
       "      <th>Flag</th>\n",
       "      <th>Overall</th>\n",
       "      <th>Potential</th>\n",
       "      <th>Club</th>\n",
       "      <th>Club Logo</th>\n",
       "      <th>...</th>\n",
       "      <th>Composure</th>\n",
       "      <th>Marking</th>\n",
       "      <th>StandingTackle</th>\n",
       "      <th>SlidingTackle</th>\n",
       "      <th>GKDiving</th>\n",
       "      <th>GKHandling</th>\n",
       "      <th>GKKicking</th>\n",
       "      <th>GKPositioning</th>\n",
       "      <th>GKReflexes</th>\n",
       "      <th>Release Clause</th>\n",
       "    </tr>\n",
       "  </thead>\n",
       "  <tbody>\n",
       "    <tr>\n",
       "      <th>0</th>\n",
       "      <td>158023</td>\n",
       "      <td>L. Messi</td>\n",
       "      <td>31</td>\n",
       "      <td>https://cdn.sofifa.org/players/4/19/158023.png</td>\n",
       "      <td>Argentina</td>\n",
       "      <td>https://cdn.sofifa.org/flags/52.png</td>\n",
       "      <td>94</td>\n",
       "      <td>94</td>\n",
       "      <td>FC Barcelona</td>\n",
       "      <td>https://cdn.sofifa.org/teams/2/light/241.png</td>\n",
       "      <td>...</td>\n",
       "      <td>96.0</td>\n",
       "      <td>33.0</td>\n",
       "      <td>28.0</td>\n",
       "      <td>26.0</td>\n",
       "      <td>6.0</td>\n",
       "      <td>11.0</td>\n",
       "      <td>15.0</td>\n",
       "      <td>14.0</td>\n",
       "      <td>8.0</td>\n",
       "      <td>226500.0</td>\n",
       "    </tr>\n",
       "    <tr>\n",
       "      <th>1</th>\n",
       "      <td>20801</td>\n",
       "      <td>Cristiano Ronaldo</td>\n",
       "      <td>33</td>\n",
       "      <td>https://cdn.sofifa.org/players/4/19/20801.png</td>\n",
       "      <td>Portugal</td>\n",
       "      <td>https://cdn.sofifa.org/flags/38.png</td>\n",
       "      <td>94</td>\n",
       "      <td>94</td>\n",
       "      <td>Juventus</td>\n",
       "      <td>https://cdn.sofifa.org/teams/2/light/45.png</td>\n",
       "      <td>...</td>\n",
       "      <td>95.0</td>\n",
       "      <td>28.0</td>\n",
       "      <td>31.0</td>\n",
       "      <td>23.0</td>\n",
       "      <td>7.0</td>\n",
       "      <td>11.0</td>\n",
       "      <td>15.0</td>\n",
       "      <td>14.0</td>\n",
       "      <td>11.0</td>\n",
       "      <td>127100.0</td>\n",
       "    </tr>\n",
       "    <tr>\n",
       "      <th>2</th>\n",
       "      <td>190871</td>\n",
       "      <td>Neymar Jr</td>\n",
       "      <td>26</td>\n",
       "      <td>https://cdn.sofifa.org/players/4/19/190871.png</td>\n",
       "      <td>Brazil</td>\n",
       "      <td>https://cdn.sofifa.org/flags/54.png</td>\n",
       "      <td>92</td>\n",
       "      <td>93</td>\n",
       "      <td>Paris Saint-Germain</td>\n",
       "      <td>https://cdn.sofifa.org/teams/2/light/73.png</td>\n",
       "      <td>...</td>\n",
       "      <td>94.0</td>\n",
       "      <td>27.0</td>\n",
       "      <td>24.0</td>\n",
       "      <td>33.0</td>\n",
       "      <td>9.0</td>\n",
       "      <td>9.0</td>\n",
       "      <td>15.0</td>\n",
       "      <td>15.0</td>\n",
       "      <td>11.0</td>\n",
       "      <td>228100.0</td>\n",
       "    </tr>\n",
       "    <tr>\n",
       "      <th>3</th>\n",
       "      <td>193080</td>\n",
       "      <td>De Gea</td>\n",
       "      <td>27</td>\n",
       "      <td>https://cdn.sofifa.org/players/4/19/193080.png</td>\n",
       "      <td>Spain</td>\n",
       "      <td>https://cdn.sofifa.org/flags/45.png</td>\n",
       "      <td>91</td>\n",
       "      <td>93</td>\n",
       "      <td>Manchester United</td>\n",
       "      <td>https://cdn.sofifa.org/teams/2/light/11.png</td>\n",
       "      <td>...</td>\n",
       "      <td>68.0</td>\n",
       "      <td>15.0</td>\n",
       "      <td>21.0</td>\n",
       "      <td>13.0</td>\n",
       "      <td>90.0</td>\n",
       "      <td>85.0</td>\n",
       "      <td>87.0</td>\n",
       "      <td>88.0</td>\n",
       "      <td>94.0</td>\n",
       "      <td>138600.0</td>\n",
       "    </tr>\n",
       "    <tr>\n",
       "      <th>4</th>\n",
       "      <td>192985</td>\n",
       "      <td>K. De Bruyne</td>\n",
       "      <td>27</td>\n",
       "      <td>https://cdn.sofifa.org/players/4/19/192985.png</td>\n",
       "      <td>Belgium</td>\n",
       "      <td>https://cdn.sofifa.org/flags/7.png</td>\n",
       "      <td>91</td>\n",
       "      <td>92</td>\n",
       "      <td>Manchester City</td>\n",
       "      <td>https://cdn.sofifa.org/teams/2/light/10.png</td>\n",
       "      <td>...</td>\n",
       "      <td>88.0</td>\n",
       "      <td>68.0</td>\n",
       "      <td>58.0</td>\n",
       "      <td>51.0</td>\n",
       "      <td>15.0</td>\n",
       "      <td>13.0</td>\n",
       "      <td>5.0</td>\n",
       "      <td>10.0</td>\n",
       "      <td>13.0</td>\n",
       "      <td>196400.0</td>\n",
       "    </tr>\n",
       "  </tbody>\n",
       "</table>\n",
       "<p>5 rows × 88 columns</p>\n",
       "</div>"
      ],
      "text/plain": [
       "       ID               Name  Age  \\\n",
       "0  158023           L. Messi   31   \n",
       "1   20801  Cristiano Ronaldo   33   \n",
       "2  190871          Neymar Jr   26   \n",
       "3  193080             De Gea   27   \n",
       "4  192985       K. De Bruyne   27   \n",
       "\n",
       "                                            Photo Nationality  \\\n",
       "0  https://cdn.sofifa.org/players/4/19/158023.png   Argentina   \n",
       "1   https://cdn.sofifa.org/players/4/19/20801.png    Portugal   \n",
       "2  https://cdn.sofifa.org/players/4/19/190871.png      Brazil   \n",
       "3  https://cdn.sofifa.org/players/4/19/193080.png       Spain   \n",
       "4  https://cdn.sofifa.org/players/4/19/192985.png     Belgium   \n",
       "\n",
       "                                  Flag  Overall  Potential  \\\n",
       "0  https://cdn.sofifa.org/flags/52.png       94         94   \n",
       "1  https://cdn.sofifa.org/flags/38.png       94         94   \n",
       "2  https://cdn.sofifa.org/flags/54.png       92         93   \n",
       "3  https://cdn.sofifa.org/flags/45.png       91         93   \n",
       "4   https://cdn.sofifa.org/flags/7.png       91         92   \n",
       "\n",
       "                  Club                                     Club Logo  \\\n",
       "0         FC Barcelona  https://cdn.sofifa.org/teams/2/light/241.png   \n",
       "1             Juventus   https://cdn.sofifa.org/teams/2/light/45.png   \n",
       "2  Paris Saint-Germain   https://cdn.sofifa.org/teams/2/light/73.png   \n",
       "3    Manchester United   https://cdn.sofifa.org/teams/2/light/11.png   \n",
       "4      Manchester City   https://cdn.sofifa.org/teams/2/light/10.png   \n",
       "\n",
       "       ...       Composure Marking  StandingTackle SlidingTackle  GKDiving  \\\n",
       "0      ...            96.0    33.0            28.0          26.0       6.0   \n",
       "1      ...            95.0    28.0            31.0          23.0       7.0   \n",
       "2      ...            94.0    27.0            24.0          33.0       9.0   \n",
       "3      ...            68.0    15.0            21.0          13.0      90.0   \n",
       "4      ...            88.0    68.0            58.0          51.0      15.0   \n",
       "\n",
       "   GKHandling  GKKicking GKPositioning GKReflexes Release Clause  \n",
       "0        11.0       15.0          14.0        8.0       226500.0  \n",
       "1        11.0       15.0          14.0       11.0       127100.0  \n",
       "2         9.0       15.0          15.0       11.0       228100.0  \n",
       "3        85.0       87.0          88.0       94.0       138600.0  \n",
       "4        13.0        5.0          10.0       13.0       196400.0  \n",
       "\n",
       "[5 rows x 88 columns]"
      ]
     },
     "execution_count": 3,
     "metadata": {},
     "output_type": "execute_result"
    }
   ],
   "source": [
    "df = get_fifa_data()\n",
    "df.head()"
   ]
  },
  {
   "cell_type": "markdown",
   "metadata": {},
   "source": [
    "### 2. Check for duplicates\n",
    "First, check how many rows are in the dataset, then check how many unique values are in the \"ID\" column."
   ]
  },
  {
   "cell_type": "code",
   "execution_count": 4,
   "metadata": {},
   "outputs": [
    {
     "data": {
      "text/plain": [
       "(20000, 88)"
      ]
     },
     "execution_count": 4,
     "metadata": {},
     "output_type": "execute_result"
    }
   ],
   "source": [
    "#code here to see the size of the dataframe\n",
    "df.shape"
   ]
  },
  {
   "cell_type": "code",
   "execution_count": 5,
   "metadata": {},
   "outputs": [
    {
     "data": {
      "text/plain": [
       "18207"
      ]
     },
     "execution_count": 5,
     "metadata": {},
     "output_type": "execute_result"
    }
   ],
   "source": [
    "#code here to check number of unique ids\n",
    "df.ID.nunique()"
   ]
  },
  {
   "cell_type": "markdown",
   "metadata": {},
   "source": [
    "### 3. Drop Duplicates\n",
    "You should see 18207 unique IDs, meaning there are duplicates.  Get rid of them by dropping duplicate rows."
   ]
  },
  {
   "cell_type": "code",
   "execution_count": 6,
   "metadata": {},
   "outputs": [],
   "source": [
    "#code here\n",
    "df.drop_duplicates(inplace=True)"
   ]
  },
  {
   "cell_type": "code",
   "execution_count": 7,
   "metadata": {},
   "outputs": [
    {
     "data": {
      "text/plain": [
       "(18207, 88)"
      ]
     },
     "execution_count": 7,
     "metadata": {},
     "output_type": "execute_result"
    }
   ],
   "source": [
    "df.shape"
   ]
  },
  {
   "cell_type": "markdown",
   "metadata": {},
   "source": [
    "### 4. Drop n/a rows for \"Release Clause\"\n",
    "Drop rows for which \"Release Clause\" is none or not given.  This is part of a soccer player's contract dealing with being bought out by another team.  Release Clause will be the target variable for our regression model. There should be 16,643 rows when you are done."
   ]
  },
  {
   "cell_type": "code",
   "execution_count": 8,
   "metadata": {},
   "outputs": [],
   "source": [
    "df.dropna(subset=['Release Clause'],inplace=True)"
   ]
  },
  {
   "cell_type": "code",
   "execution_count": 9,
   "metadata": {},
   "outputs": [
    {
     "data": {
      "text/plain": [
       "(16643, 88)"
      ]
     },
     "execution_count": 9,
     "metadata": {},
     "output_type": "execute_result"
    }
   ],
   "source": [
    "df.shape"
   ]
  },
  {
   "cell_type": "markdown",
   "metadata": {},
   "source": [
    "### 5. Convert players' heights to inches. Replace the original height column.\n",
    "First create a function, then use it on your dataframe. If it's `nan` then return `nan`."
   ]
  },
  {
   "cell_type": "code",
   "execution_count": 10,
   "metadata": {},
   "outputs": [],
   "source": [
    "#code here to write a helper function\n",
    "def convert_height(height):\n",
    "    split = height.split(\"'\")\n",
    "    return int(split[0])*12 + int(split[1])"
   ]
  },
  {
   "cell_type": "code",
   "execution_count": 11,
   "metadata": {},
   "outputs": [
    {
     "data": {
      "text/plain": [
       "67"
      ]
     },
     "execution_count": 11,
     "metadata": {},
     "output_type": "execute_result"
    }
   ],
   "source": [
    "#test here\n",
    "convert_height(\"5'7\")"
   ]
  },
  {
   "cell_type": "code",
   "execution_count": 12,
   "metadata": {},
   "outputs": [],
   "source": [
    "#code here to use the function on the height column\n",
    "df['Height'] = df.Height.apply(lambda x: convert_height(x))"
   ]
  },
  {
   "cell_type": "markdown",
   "metadata": {},
   "source": [
    "### 6. Make histograms of 3 different continuous statistics\n",
    "Bonus points for labeling axes and adding chart titles."
   ]
  },
  {
   "cell_type": "code",
   "execution_count": 13,
   "metadata": {},
   "outputs": [],
   "source": [
    "import matplotlib.pyplot as plt\n",
    "import seaborn as sns\n",
    "%matplotlib inline"
   ]
  },
  {
   "cell_type": "code",
   "execution_count": 14,
   "metadata": {},
   "outputs": [
    {
     "data": {
      "text/plain": [
       "<matplotlib.axes._subplots.AxesSubplot at 0x1a196d8be0>"
      ]
     },
     "execution_count": 14,
     "metadata": {},
     "output_type": "execute_result"
    },
    {
     "data": {
      "image/png": "[encoded data removed]",
      "text/plain": [
       "<Figure size 720x432 with 1 Axes>"
      ]
     },
     "metadata": {
      "needs_background": "light"
     },
     "output_type": "display_data"
    }
   ],
   "source": [
    "plt.subplots(figsize=(10,6))\n",
    "sns.distplot(df.Height, bins=range(min(df.Height),max(df.Height)))"
   ]
  },
  {
   "cell_type": "code",
   "execution_count": 15,
   "metadata": {},
   "outputs": [
    {
     "data": {
      "text/plain": [
       "<matplotlib.axes._subplots.AxesSubplot at 0x1a197dda58>"
      ]
     },
     "execution_count": 15,
     "metadata": {},
     "output_type": "execute_result"
    },
    {
     "data": {
      "image/png": "[encoded data removed]",
      "text/plain": [
       "<Figure size 720x432 with 1 Axes>"
      ]
     },
     "metadata": {
      "needs_background": "light"
     },
     "output_type": "display_data"
    }
   ],
   "source": [
    "plt.subplots(figsize=(10,6))\n",
    "sns.distplot(df.Age,bins=range(15,45))"
   ]
  },
  {
   "cell_type": "code",
   "execution_count": 16,
   "metadata": {},
   "outputs": [
    {
     "data": {
      "text/plain": [
       "<matplotlib.axes._subplots.AxesSubplot at 0x1a19896240>"
      ]
     },
     "execution_count": 16,
     "metadata": {},
     "output_type": "execute_result"
    },
    {
     "data": {
      "image/png": "[encoded data removed]",
      "text/plain": [
       "<Figure size 720x432 with 1 Axes>"
      ]
     },
     "metadata": {
      "needs_background": "light"
     },
     "output_type": "display_data"
    }
   ],
   "source": [
    "plt.subplots(figsize=(10,6))\n",
    "sns.distplot(df.HeadingAccuracy,bins=range(0,100,2))"
   ]
  },
  {
   "cell_type": "markdown",
   "metadata": {},
   "source": [
    "### 7. Make a bar chart for the 10 countries with the most players (by nationality)"
   ]
  },
  {
   "cell_type": "code",
   "execution_count": 17,
   "metadata": {},
   "outputs": [
    {
     "data": {
      "text/plain": [
       "England        1475\n",
       "Germany        1151\n",
       "Spain           974\n",
       "France          853\n",
       "Argentina       833\n",
       "Brazil          788\n",
       "Italy           579\n",
       "Colombia        570\n",
       "Japan           455\n",
       "Netherlands     426\n",
       "Name: Nationality, dtype: int64"
      ]
     },
     "execution_count": 17,
     "metadata": {},
     "output_type": "execute_result"
    }
   ],
   "source": [
    "#code here to get the top 10 countries with the most players\n",
    "df.Nationality.value_counts()[0:10]"
   ]
  },
  {
   "cell_type": "code",
   "execution_count": 18,
   "metadata": {},
   "outputs": [
    {
     "data": {
      "text/plain": [
       "<matplotlib.axes._subplots.AxesSubplot at 0x1a198ca128>"
      ]
     },
     "execution_count": 18,
     "metadata": {},
     "output_type": "execute_result"
    },
    {
     "data": {
      "image/png": "[encoded data removed]",
      "text/plain": [
       "<Figure size 720x432 with 1 Axes>"
      ]
     },
     "metadata": {
      "needs_background": "light"
     },
     "output_type": "display_data"
    }
   ],
   "source": [
    "#code here to plot a bar chart\n",
    "plt.subplots(figsize=(10,6))\n",
    "sns.countplot(\n",
    "    df.loc[\n",
    "        df['Nationality'].isin(df.Nationality.value_counts()[0:10].keys())\n",
    "    ]['Nationality'],\n",
    ")"
   ]
  },
  {
   "cell_type": "markdown",
   "metadata": {},
   "source": [
    "### 8. What is the difference between a bar chart and a histogram?"
   ]
  },
  {
   "cell_type": "markdown",
   "metadata": {},
   "source": [
    "// answer here //\n",
    "\n",
    "A bar chart shows quantities of different categories whereas histograms show distributions."
   ]
  },
  {
   "cell_type": "markdown",
   "metadata": {},
   "source": [
    "### 9. Make a scatter plot for the player stats StandingTackle and SlidingTackle\n",
    "These two variables should be highly correlated."
   ]
  },
  {
   "cell_type": "code",
   "execution_count": 19,
   "metadata": {},
   "outputs": [
    {
     "data": {
      "text/plain": [
       "<matplotlib.collections.PathCollection at 0x1a1a1603c8>"
      ]
     },
     "execution_count": 19,
     "metadata": {},
     "output_type": "execute_result"
    },
    {
     "data": {
      "image/png": "[encoded data removed]",
      "text/plain": [
       "<Figure size 720x432 with 1 Axes>"
      ]
     },
     "metadata": {
      "needs_background": "light"
     },
     "output_type": "display_data"
    }
   ],
   "source": [
    "plt.subplots(figsize=(10,6))\n",
    "plt.scatter(df['StandingTackle'], df['SlidingTackle'])"
   ]
  },
  {
   "cell_type": "markdown",
   "metadata": {},
   "source": [
    "# Section 3: NUMPY and Statistics"
   ]
  },
  {
   "cell_type": "markdown",
   "metadata": {},
   "source": [
    "We'll continue using the same FIFA 2019 dataset.  This section will assess your ability to use numpy and work with summary statistics."
   ]
  },
  {
   "cell_type": "markdown",
   "metadata": {},
   "source": [
    "### 1. Convert the Release Clause Price from Euros to Dollars\n",
    "Store in a new column release_clause_dollars\n",
    "Do <b>not</b> use the `apply` method.\n",
    "1.2 Dollars = 1 Euro."
   ]
  },
  {
   "cell_type": "code",
   "execution_count": 20,
   "metadata": {},
   "outputs": [],
   "source": [
    "df['release_clause_dollars'] = df['Release Clause'] * 1.2"
   ]
  },
  {
   "cell_type": "markdown",
   "metadata": {},
   "source": [
    "### 2. Get summary statistics for all numeric columns\n",
    "(Please don't do each column individually!)"
   ]
  },
  {
   "cell_type": "code",
   "execution_count": 21,
   "metadata": {},
   "outputs": [
    {
     "data": {
      "text/html": [
       "<div>\n",
       "<style scoped>\n",
       "    .dataframe tbody tr th:only-of-type {\n",
       "        vertical-align: middle;\n",
       "    }\n",
       "\n",
       "    .dataframe tbody tr th {\n",
       "        vertical-align: top;\n",
       "    }\n",
       "\n",
       "    .dataframe thead th {\n",
       "        text-align: right;\n",
       "    }\n",
       "</style>\n",
       "<table border=\"1\" class=\"dataframe\">\n",
       "  <thead>\n",
       "    <tr style=\"text-align: right;\">\n",
       "      <th></th>\n",
       "      <th>ID</th>\n",
       "      <th>Age</th>\n",
       "      <th>Overall</th>\n",
       "      <th>Potential</th>\n",
       "      <th>Special</th>\n",
       "      <th>International Reputation</th>\n",
       "      <th>Weak Foot</th>\n",
       "      <th>Skill Moves</th>\n",
       "      <th>Jersey Number</th>\n",
       "      <th>Height</th>\n",
       "      <th>...</th>\n",
       "      <th>Marking</th>\n",
       "      <th>StandingTackle</th>\n",
       "      <th>SlidingTackle</th>\n",
       "      <th>GKDiving</th>\n",
       "      <th>GKHandling</th>\n",
       "      <th>GKKicking</th>\n",
       "      <th>GKPositioning</th>\n",
       "      <th>GKReflexes</th>\n",
       "      <th>Release Clause</th>\n",
       "      <th>release_clause_dollars</th>\n",
       "    </tr>\n",
       "  </thead>\n",
       "  <tbody>\n",
       "    <tr>\n",
       "      <th>count</th>\n",
       "      <td>16643.000000</td>\n",
       "      <td>16643.000000</td>\n",
       "      <td>16643.000000</td>\n",
       "      <td>16643.000000</td>\n",
       "      <td>16643.000000</td>\n",
       "      <td>16643.000000</td>\n",
       "      <td>16643.000000</td>\n",
       "      <td>16643.000000</td>\n",
       "      <td>16643.000000</td>\n",
       "      <td>16643.000000</td>\n",
       "      <td>...</td>\n",
       "      <td>16643.000000</td>\n",
       "      <td>16643.000000</td>\n",
       "      <td>16643.000000</td>\n",
       "      <td>16643.000000</td>\n",
       "      <td>16643.000000</td>\n",
       "      <td>16643.000000</td>\n",
       "      <td>16643.000000</td>\n",
       "      <td>16643.000000</td>\n",
       "      <td>16643.000000</td>\n",
       "      <td>1.664300e+04</td>\n",
       "    </tr>\n",
       "    <tr>\n",
       "      <th>mean</th>\n",
       "      <td>213845.010094</td>\n",
       "      <td>25.226221</td>\n",
       "      <td>66.162771</td>\n",
       "      <td>71.140900</td>\n",
       "      <td>1595.383404</td>\n",
       "      <td>1.114823</td>\n",
       "      <td>2.942919</td>\n",
       "      <td>2.349516</td>\n",
       "      <td>19.657213</td>\n",
       "      <td>71.357327</td>\n",
       "      <td>...</td>\n",
       "      <td>47.328967</td>\n",
       "      <td>47.776302</td>\n",
       "      <td>45.751607</td>\n",
       "      <td>16.747521</td>\n",
       "      <td>16.515712</td>\n",
       "      <td>16.355765</td>\n",
       "      <td>16.503936</td>\n",
       "      <td>16.837409</td>\n",
       "      <td>228201.273629</td>\n",
       "      <td>2.738415e+05</td>\n",
       "    </tr>\n",
       "    <tr>\n",
       "      <th>std</th>\n",
       "      <td>30546.285826</td>\n",
       "      <td>4.716588</td>\n",
       "      <td>7.008236</td>\n",
       "      <td>6.151409</td>\n",
       "      <td>275.723076</td>\n",
       "      <td>0.398559</td>\n",
       "      <td>0.659933</td>\n",
       "      <td>0.755855</td>\n",
       "      <td>16.054811</td>\n",
       "      <td>2.642547</td>\n",
       "      <td>...</td>\n",
       "      <td>19.937220</td>\n",
       "      <td>21.681809</td>\n",
       "      <td>21.295201</td>\n",
       "      <td>17.832273</td>\n",
       "      <td>17.033907</td>\n",
       "      <td>16.615668</td>\n",
       "      <td>17.151713</td>\n",
       "      <td>18.090985</td>\n",
       "      <td>299251.865865</td>\n",
       "      <td>3.591022e+05</td>\n",
       "    </tr>\n",
       "    <tr>\n",
       "      <th>min</th>\n",
       "      <td>16.000000</td>\n",
       "      <td>16.000000</td>\n",
       "      <td>46.000000</td>\n",
       "      <td>48.000000</td>\n",
       "      <td>731.000000</td>\n",
       "      <td>1.000000</td>\n",
       "      <td>1.000000</td>\n",
       "      <td>1.000000</td>\n",
       "      <td>1.000000</td>\n",
       "      <td>61.000000</td>\n",
       "      <td>...</td>\n",
       "      <td>3.000000</td>\n",
       "      <td>2.000000</td>\n",
       "      <td>3.000000</td>\n",
       "      <td>1.000000</td>\n",
       "      <td>1.000000</td>\n",
       "      <td>1.000000</td>\n",
       "      <td>1.000000</td>\n",
       "      <td>1.000000</td>\n",
       "      <td>1000.000000</td>\n",
       "      <td>1.200000e+03</td>\n",
       "    </tr>\n",
       "    <tr>\n",
       "      <th>25%</th>\n",
       "      <td>199569.500000</td>\n",
       "      <td>21.000000</td>\n",
       "      <td>62.000000</td>\n",
       "      <td>67.000000</td>\n",
       "      <td>1452.000000</td>\n",
       "      <td>1.000000</td>\n",
       "      <td>3.000000</td>\n",
       "      <td>2.000000</td>\n",
       "      <td>8.000000</td>\n",
       "      <td>69.000000</td>\n",
       "      <td>...</td>\n",
       "      <td>30.000000</td>\n",
       "      <td>27.000000</td>\n",
       "      <td>24.000000</td>\n",
       "      <td>8.000000</td>\n",
       "      <td>8.000000</td>\n",
       "      <td>8.000000</td>\n",
       "      <td>8.000000</td>\n",
       "      <td>8.000000</td>\n",
       "      <td>2500.000000</td>\n",
       "      <td>3.000000e+03</td>\n",
       "    </tr>\n",
       "    <tr>\n",
       "      <th>50%</th>\n",
       "      <td>221493.000000</td>\n",
       "      <td>25.000000</td>\n",
       "      <td>66.000000</td>\n",
       "      <td>71.000000</td>\n",
       "      <td>1633.000000</td>\n",
       "      <td>1.000000</td>\n",
       "      <td>3.000000</td>\n",
       "      <td>2.000000</td>\n",
       "      <td>17.000000</td>\n",
       "      <td>71.000000</td>\n",
       "      <td>...</td>\n",
       "      <td>53.000000</td>\n",
       "      <td>55.000000</td>\n",
       "      <td>52.000000</td>\n",
       "      <td>11.000000</td>\n",
       "      <td>11.000000</td>\n",
       "      <td>11.000000</td>\n",
       "      <td>11.000000</td>\n",
       "      <td>11.000000</td>\n",
       "      <td>19800.000000</td>\n",
       "      <td>2.376000e+04</td>\n",
       "    </tr>\n",
       "    <tr>\n",
       "      <th>75%</th>\n",
       "      <td>236802.000000</td>\n",
       "      <td>29.000000</td>\n",
       "      <td>71.000000</td>\n",
       "      <td>75.000000</td>\n",
       "      <td>1787.000000</td>\n",
       "      <td>1.000000</td>\n",
       "      <td>3.000000</td>\n",
       "      <td>3.000000</td>\n",
       "      <td>26.000000</td>\n",
       "      <td>73.000000</td>\n",
       "      <td>...</td>\n",
       "      <td>64.000000</td>\n",
       "      <td>66.000000</td>\n",
       "      <td>64.000000</td>\n",
       "      <td>14.000000</td>\n",
       "      <td>14.000000</td>\n",
       "      <td>14.000000</td>\n",
       "      <td>14.000000</td>\n",
       "      <td>14.000000</td>\n",
       "      <td>431000.000000</td>\n",
       "      <td>5.172000e+05</td>\n",
       "    </tr>\n",
       "    <tr>\n",
       "      <th>max</th>\n",
       "      <td>246620.000000</td>\n",
       "      <td>45.000000</td>\n",
       "      <td>94.000000</td>\n",
       "      <td>95.000000</td>\n",
       "      <td>2346.000000</td>\n",
       "      <td>5.000000</td>\n",
       "      <td>5.000000</td>\n",
       "      <td>5.000000</td>\n",
       "      <td>99.000000</td>\n",
       "      <td>81.000000</td>\n",
       "      <td>...</td>\n",
       "      <td>94.000000</td>\n",
       "      <td>93.000000</td>\n",
       "      <td>91.000000</td>\n",
       "      <td>90.000000</td>\n",
       "      <td>92.000000</td>\n",
       "      <td>91.000000</td>\n",
       "      <td>90.000000</td>\n",
       "      <td>94.000000</td>\n",
       "      <td>999000.000000</td>\n",
       "      <td>1.198800e+06</td>\n",
       "    </tr>\n",
       "  </tbody>\n",
       "</table>\n",
       "<p>8 rows × 46 columns</p>\n",
       "</div>"
      ],
      "text/plain": [
       "                  ID           Age       Overall     Potential       Special  \\\n",
       "count   16643.000000  16643.000000  16643.000000  16643.000000  16643.000000   \n",
       "mean   213845.010094     25.226221     66.162771     71.140900   1595.383404   \n",
       "std     30546.285826      4.716588      7.008236      6.151409    275.723076   \n",
       "min        16.000000     16.000000     46.000000     48.000000    731.000000   \n",
       "25%    199569.500000     21.000000     62.000000     67.000000   1452.000000   \n",
       "50%    221493.000000     25.000000     66.000000     71.000000   1633.000000   \n",
       "75%    236802.000000     29.000000     71.000000     75.000000   1787.000000   \n",
       "max    246620.000000     45.000000     94.000000     95.000000   2346.000000   \n",
       "\n",
       "       International Reputation     Weak Foot   Skill Moves  Jersey Number  \\\n",
       "count              16643.000000  16643.000000  16643.000000   16643.000000   \n",
       "mean                   1.114823      2.942919      2.349516      19.657213   \n",
       "std                    0.398559      0.659933      0.755855      16.054811   \n",
       "min                    1.000000      1.000000      1.000000       1.000000   \n",
       "25%                    1.000000      3.000000      2.000000       8.000000   \n",
       "50%                    1.000000      3.000000      2.000000      17.000000   \n",
       "75%                    1.000000      3.000000      3.000000      26.000000   \n",
       "max                    5.000000      5.000000      5.000000      99.000000   \n",
       "\n",
       "             Height           ...                 Marking  StandingTackle  \\\n",
       "count  16643.000000           ...            16643.000000    16643.000000   \n",
       "mean      71.357327           ...               47.328967       47.776302   \n",
       "std        2.642547           ...               19.937220       21.681809   \n",
       "min       61.000000           ...                3.000000        2.000000   \n",
       "25%       69.000000           ...               30.000000       27.000000   \n",
       "50%       71.000000           ...               53.000000       55.000000   \n",
       "75%       73.000000           ...               64.000000       66.000000   \n",
       "max       81.000000           ...               94.000000       93.000000   \n",
       "\n",
       "       SlidingTackle      GKDiving    GKHandling     GKKicking  GKPositioning  \\\n",
       "count   16643.000000  16643.000000  16643.000000  16643.000000   16643.000000   \n",
       "mean       45.751607     16.747521     16.515712     16.355765      16.503936   \n",
       "std        21.295201     17.832273     17.033907     16.615668      17.151713   \n",
       "min         3.000000      1.000000      1.000000      1.000000       1.000000   \n",
       "25%        24.000000      8.000000      8.000000      8.000000       8.000000   \n",
       "50%        52.000000     11.000000     11.000000     11.000000      11.000000   \n",
       "75%        64.000000     14.000000     14.000000     14.000000      14.000000   \n",
       "max        91.000000     90.000000     92.000000     91.000000      90.000000   \n",
       "\n",
       "         GKReflexes  Release Clause  release_clause_dollars  \n",
       "count  16643.000000    16643.000000            1.664300e+04  \n",
       "mean      16.837409   228201.273629            2.738415e+05  \n",
       "std       18.090985   299251.865865            3.591022e+05  \n",
       "min        1.000000     1000.000000            1.200000e+03  \n",
       "25%        8.000000     2500.000000            3.000000e+03  \n",
       "50%       11.000000    19800.000000            2.376000e+04  \n",
       "75%       14.000000   431000.000000            5.172000e+05  \n",
       "max       94.000000   999000.000000            1.198800e+06  \n",
       "\n",
       "[8 rows x 46 columns]"
      ]
     },
     "execution_count": 21,
     "metadata": {},
     "output_type": "execute_result"
    }
   ],
   "source": [
    "df.describe()"
   ]
  },
  {
   "cell_type": "markdown",
   "metadata": {},
   "source": [
    "### 3. What is the mean age and the median age?  What does each mean?"
   ]
  },
  {
   "cell_type": "markdown",
   "metadata": {},
   "source": [
    "// answer here //"
   ]
  },
  {
   "cell_type": "markdown",
   "metadata": {},
   "source": [
    "### 4. What is the standard deviation of \"International Reputation\"?  What does this tell you about the distribution of this variable, which is incremental from 1-5?"
   ]
  },
  {
   "cell_type": "markdown",
   "metadata": {},
   "source": [
    "// answer here //"
   ]
  },
  {
   "cell_type": "markdown",
   "metadata": {},
   "source": [
    "### 5. What are the covariance and correlation between \"SprintSpeed\" and \"Agility\"? \n",
    "- What is the difference between covariance and correlation?\n",
    "- What can you infer from the relationship between these variables?\n",
    "- Why might it not be a good idea to include both of these in a regression model?"
   ]
  },
  {
   "cell_type": "code",
   "execution_count": 24,
   "metadata": {},
   "outputs": [
    {
     "name": "stdout",
     "output_type": "stream",
     "text": [
      "Correlation: 0.76386064764907\n",
      "Covariance: 166.97720711252782\n"
     ]
    }
   ],
   "source": [
    "#code here\n",
    "print('Correlation:',np.corrcoef(df['SprintSpeed'],df['Agility'])[0][1])\n",
    "print('Covariance:',np.cov(df['SprintSpeed'],df['Agility'])[0][1])"
   ]
  },
  {
   "cell_type": "markdown",
   "metadata": {},
   "source": [
    "// answer here //"
   ]
  },
  {
   "cell_type": "markdown",
   "metadata": {},
   "source": [
    "### 6. Do a linear regression.\n",
    "\n",
    "Let's see how well each players' in-game stats reflect their real-world monetary value as a player. We  will not be considering real-world factors for this model.\n",
    "\n",
    "- y variable: Release Clause\n",
    "- x variables: 'Finishing', 'HeadingAccuracy', 'ShortPassing', 'Volleys', 'Dribbling', 'Curve', 'FKAccuracy', 'LongPassing', 'BallControl', 'Acceleration', 'SprintSpeed', 'Agility', 'Reactions', 'Balance', 'ShotPower', 'Jumping', 'Stamina', 'Strength', 'LongShots', 'Aggression','Interceptions', 'Positioning', 'Vision', 'Penalties', 'Composure','Marking', 'StandingTackle', 'SlidingTackle', 'GKDiving', 'GKHandling','GKKicking', 'GKPositioning', 'GKReflexes'"
   ]
  },
  {
   "cell_type": "markdown",
   "metadata": {},
   "source": [
    "https://github.com/learn-co-curriculum/dsc-ols-statsmodels"
   ]
  },
  {
   "cell_type": "code",
   "execution_count": 23,
   "metadata": {},
   "outputs": [
    {
     "data": {
      "text/html": [
       "<table class=\"simpletable\">\n",
       "<caption>OLS Regression Results</caption>\n",
       "<tr>\n",
       "  <th>Dep. Variable:</th>     <td>Release Clause</td>  <th>  R-squared:         </th>  <td>   0.141</td>  \n",
       "</tr>\n",
       "<tr>\n",
       "  <th>Model:</th>                   <td>OLS</td>       <th>  Adj. R-squared:    </th>  <td>   0.140</td>  \n",
       "</tr>\n",
       "<tr>\n",
       "  <th>Method:</th>             <td>Least Squares</td>  <th>  F-statistic:       </th>  <td>   82.81</td>  \n",
       "</tr>\n",
       "<tr>\n",
       "  <th>Date:</th>             <td>Thu, 23 May 2019</td> <th>  Prob (F-statistic):</th>   <td>  0.00</td>   \n",
       "</tr>\n",
       "<tr>\n",
       "  <th>Time:</th>                 <td>14:42:26</td>     <th>  Log-Likelihood:    </th> <td>-2.3220e+05</td>\n",
       "</tr>\n",
       "<tr>\n",
       "  <th>No. Observations:</th>      <td> 16643</td>      <th>  AIC:               </th>  <td>4.645e+05</td> \n",
       "</tr>\n",
       "<tr>\n",
       "  <th>Df Residuals:</th>          <td> 16609</td>      <th>  BIC:               </th>  <td>4.647e+05</td> \n",
       "</tr>\n",
       "<tr>\n",
       "  <th>Df Model:</th>              <td>    33</td>      <th>                     </th>      <td> </td>     \n",
       "</tr>\n",
       "<tr>\n",
       "  <th>Covariance Type:</th>      <td>nonrobust</td>    <th>                     </th>      <td> </td>     \n",
       "</tr>\n",
       "</table>\n",
       "<table class=\"simpletable\">\n",
       "<tr>\n",
       "         <td></td>            <th>coef</th>     <th>std err</th>      <th>t</th>      <th>P>|t|</th>  <th>[0.025</th>    <th>0.975]</th>  \n",
       "</tr>\n",
       "<tr>\n",
       "  <th>const</th>           <td> 1.058e+06</td> <td> 2.92e+04</td> <td>   36.213</td> <td> 0.000</td> <td>    1e+06</td> <td> 1.12e+06</td>\n",
       "</tr>\n",
       "<tr>\n",
       "  <th>Finishing</th>       <td> -186.6904</td> <td>  364.909</td> <td>   -0.512</td> <td> 0.609</td> <td> -901.952</td> <td>  528.571</td>\n",
       "</tr>\n",
       "<tr>\n",
       "  <th>HeadingAccuracy</th> <td>-1721.8142</td> <td>  306.031</td> <td>   -5.626</td> <td> 0.000</td> <td>-2321.668</td> <td>-1121.960</td>\n",
       "</tr>\n",
       "<tr>\n",
       "  <th>ShortPassing</th>    <td>-1537.6988</td> <td>  518.249</td> <td>   -2.967</td> <td> 0.003</td> <td>-2553.522</td> <td> -521.876</td>\n",
       "</tr>\n",
       "<tr>\n",
       "  <th>Volleys</th>         <td>  524.5785</td> <td>  316.543</td> <td>    1.657</td> <td> 0.097</td> <td>  -95.879</td> <td> 1145.037</td>\n",
       "</tr>\n",
       "<tr>\n",
       "  <th>Dribbling</th>       <td>-1816.1692</td> <td>  444.153</td> <td>   -4.089</td> <td> 0.000</td> <td>-2686.757</td> <td> -945.582</td>\n",
       "</tr>\n",
       "<tr>\n",
       "  <th>Curve</th>           <td> -251.8955</td> <td>  302.036</td> <td>   -0.834</td> <td> 0.404</td> <td> -843.917</td> <td>  340.126</td>\n",
       "</tr>\n",
       "<tr>\n",
       "  <th>FKAccuracy</th>      <td>   65.0183</td> <td>  275.312</td> <td>    0.236</td> <td> 0.813</td> <td> -474.624</td> <td>  604.660</td>\n",
       "</tr>\n",
       "<tr>\n",
       "  <th>LongPassing</th>     <td>   54.3319</td> <td>  380.871</td> <td>    0.143</td> <td> 0.887</td> <td> -692.215</td> <td>  800.879</td>\n",
       "</tr>\n",
       "<tr>\n",
       "  <th>BallControl</th>     <td>-2344.5367</td> <td>  557.525</td> <td>   -4.205</td> <td> 0.000</td> <td>-3437.345</td> <td>-1251.728</td>\n",
       "</tr>\n",
       "<tr>\n",
       "  <th>Acceleration</th>    <td> -570.2972</td> <td>  427.689</td> <td>   -1.333</td> <td> 0.182</td> <td>-1408.614</td> <td>  268.019</td>\n",
       "</tr>\n",
       "<tr>\n",
       "  <th>SprintSpeed</th>     <td>-1320.4425</td> <td>  395.892</td> <td>   -3.335</td> <td> 0.001</td> <td>-2096.434</td> <td> -544.451</td>\n",
       "</tr>\n",
       "<tr>\n",
       "  <th>Agility</th>         <td> 1269.9876</td> <td>  317.384</td> <td>    4.001</td> <td> 0.000</td> <td>  647.882</td> <td> 1892.094</td>\n",
       "</tr>\n",
       "<tr>\n",
       "  <th>Reactions</th>       <td>-6076.8710</td> <td>  420.977</td> <td>  -14.435</td> <td> 0.000</td> <td>-6902.031</td> <td>-5251.711</td>\n",
       "</tr>\n",
       "<tr>\n",
       "  <th>Balance</th>         <td>  831.8455</td> <td>  287.459</td> <td>    2.894</td> <td> 0.004</td> <td>  268.394</td> <td> 1395.296</td>\n",
       "</tr>\n",
       "<tr>\n",
       "  <th>ShotPower</th>       <td>-1234.1000</td> <td>  322.514</td> <td>   -3.826</td> <td> 0.000</td> <td>-1866.262</td> <td> -601.938</td>\n",
       "</tr>\n",
       "<tr>\n",
       "  <th>Jumping</th>         <td>  -91.6105</td> <td>  225.000</td> <td>   -0.407</td> <td> 0.684</td> <td> -532.634</td> <td>  349.413</td>\n",
       "</tr>\n",
       "<tr>\n",
       "  <th>Stamina</th>         <td>  771.8079</td> <td>  261.189</td> <td>    2.955</td> <td> 0.003</td> <td>  259.849</td> <td> 1283.767</td>\n",
       "</tr>\n",
       "<tr>\n",
       "  <th>Strength</th>        <td> 1179.3792</td> <td>  272.289</td> <td>    4.331</td> <td> 0.000</td> <td>  645.663</td> <td> 1713.095</td>\n",
       "</tr>\n",
       "<tr>\n",
       "  <th>LongShots</th>       <td>  662.1502</td> <td>  343.207</td> <td>    1.929</td> <td> 0.054</td> <td>  -10.572</td> <td> 1334.872</td>\n",
       "</tr>\n",
       "<tr>\n",
       "  <th>Aggression</th>      <td> -229.7008</td> <td>  241.165</td> <td>   -0.952</td> <td> 0.341</td> <td> -702.410</td> <td>  243.008</td>\n",
       "</tr>\n",
       "<tr>\n",
       "  <th>Interceptions</th>   <td>  189.3008</td> <td>  349.249</td> <td>    0.542</td> <td> 0.588</td> <td> -495.264</td> <td>  873.866</td>\n",
       "</tr>\n",
       "<tr>\n",
       "  <th>Positioning</th>     <td>  753.9676</td> <td>  332.317</td> <td>    2.269</td> <td> 0.023</td> <td>  102.590</td> <td> 1405.345</td>\n",
       "</tr>\n",
       "<tr>\n",
       "  <th>Vision</th>          <td> -512.8898</td> <td>  314.196</td> <td>   -1.632</td> <td> 0.103</td> <td>-1128.747</td> <td>  102.967</td>\n",
       "</tr>\n",
       "<tr>\n",
       "  <th>Penalties</th>       <td>  599.0759</td> <td>  298.530</td> <td>    2.007</td> <td> 0.045</td> <td>   13.925</td> <td> 1184.227</td>\n",
       "</tr>\n",
       "<tr>\n",
       "  <th>Composure</th>       <td>-1675.2161</td> <td>  339.233</td> <td>   -4.938</td> <td> 0.000</td> <td>-2340.149</td> <td>-1010.283</td>\n",
       "</tr>\n",
       "<tr>\n",
       "  <th>Marking</th>         <td>   61.3220</td> <td>  280.417</td> <td>    0.219</td> <td> 0.827</td> <td> -488.325</td> <td>  610.969</td>\n",
       "</tr>\n",
       "<tr>\n",
       "  <th>StandingTackle</th>  <td> -256.3604</td> <td>  519.643</td> <td>   -0.493</td> <td> 0.622</td> <td>-1274.915</td> <td>  762.195</td>\n",
       "</tr>\n",
       "<tr>\n",
       "  <th>SlidingTackle</th>   <td>  278.6254</td> <td>  481.464</td> <td>    0.579</td> <td> 0.563</td> <td> -665.096</td> <td> 1222.347</td>\n",
       "</tr>\n",
       "<tr>\n",
       "  <th>GKDiving</th>        <td>-2157.8749</td> <td>  648.490</td> <td>   -3.328</td> <td> 0.001</td> <td>-3428.984</td> <td> -886.766</td>\n",
       "</tr>\n",
       "<tr>\n",
       "  <th>GKHandling</th>      <td> -923.1711</td> <td>  655.277</td> <td>   -1.409</td> <td> 0.159</td> <td>-2207.583</td> <td>  361.241</td>\n",
       "</tr>\n",
       "<tr>\n",
       "  <th>GKKicking</th>       <td> -924.0726</td> <td>  603.179</td> <td>   -1.532</td> <td> 0.126</td> <td>-2106.367</td> <td>  258.222</td>\n",
       "</tr>\n",
       "<tr>\n",
       "  <th>GKPositioning</th>   <td> -363.0774</td> <td>  641.463</td> <td>   -0.566</td> <td> 0.571</td> <td>-1620.412</td> <td>  894.258</td>\n",
       "</tr>\n",
       "<tr>\n",
       "  <th>GKReflexes</th>      <td> -507.0585</td> <td>  644.356</td> <td>   -0.787</td> <td> 0.431</td> <td>-1770.065</td> <td>  755.948</td>\n",
       "</tr>\n",
       "</table>\n",
       "<table class=\"simpletable\">\n",
       "<tr>\n",
       "  <th>Omnibus:</th>       <td>2361.056</td> <th>  Durbin-Watson:     </th> <td>   1.535</td>\n",
       "</tr>\n",
       "<tr>\n",
       "  <th>Prob(Omnibus):</th>  <td> 0.000</td>  <th>  Jarque-Bera (JB):  </th> <td>3512.259</td>\n",
       "</tr>\n",
       "<tr>\n",
       "  <th>Skew:</th>           <td> 1.116</td>  <th>  Prob(JB):          </th> <td>    0.00</td>\n",
       "</tr>\n",
       "<tr>\n",
       "  <th>Kurtosis:</th>       <td> 3.286</td>  <th>  Cond. No.          </th> <td>4.05e+03</td>\n",
       "</tr>\n",
       "</table><br/><br/>Warnings:<br/>[1] Standard Errors assume that the covariance matrix of the errors is correctly specified.<br/>[2] The condition number is large, 4.05e+03. This might indicate that there are<br/>strong multicollinearity or other numerical problems."
      ],
      "text/plain": [
       "<class 'statsmodels.iolib.summary.Summary'>\n",
       "\"\"\"\n",
       "                            OLS Regression Results                            \n",
       "==============================================================================\n",
       "Dep. Variable:         Release Clause   R-squared:                       0.141\n",
       "Model:                            OLS   Adj. R-squared:                  0.140\n",
       "Method:                 Least Squares   F-statistic:                     82.81\n",
       "Date:                Thu, 23 May 2019   Prob (F-statistic):               0.00\n",
       "Time:                        14:42:26   Log-Likelihood:            -2.3220e+05\n",
       "No. Observations:               16643   AIC:                         4.645e+05\n",
       "Df Residuals:                   16609   BIC:                         4.647e+05\n",
       "Df Model:                          33                                         \n",
       "Covariance Type:            nonrobust                                         \n",
       "===================================================================================\n",
       "                      coef    std err          t      P>|t|      [0.025      0.975]\n",
       "-----------------------------------------------------------------------------------\n",
       "const            1.058e+06   2.92e+04     36.213      0.000       1e+06    1.12e+06\n",
       "Finishing        -186.6904    364.909     -0.512      0.609    -901.952     528.571\n",
       "HeadingAccuracy -1721.8142    306.031     -5.626      0.000   -2321.668   -1121.960\n",
       "ShortPassing    -1537.6988    518.249     -2.967      0.003   -2553.522    -521.876\n",
       "Volleys           524.5785    316.543      1.657      0.097     -95.879    1145.037\n",
       "Dribbling       -1816.1692    444.153     -4.089      0.000   -2686.757    -945.582\n",
       "Curve            -251.8955    302.036     -0.834      0.404    -843.917     340.126\n",
       "FKAccuracy         65.0183    275.312      0.236      0.813    -474.624     604.660\n",
       "LongPassing        54.3319    380.871      0.143      0.887    -692.215     800.879\n",
       "BallControl     -2344.5367    557.525     -4.205      0.000   -3437.345   -1251.728\n",
       "Acceleration     -570.2972    427.689     -1.333      0.182   -1408.614     268.019\n",
       "SprintSpeed     -1320.4425    395.892     -3.335      0.001   -2096.434    -544.451\n",
       "Agility          1269.9876    317.384      4.001      0.000     647.882    1892.094\n",
       "Reactions       -6076.8710    420.977    -14.435      0.000   -6902.031   -5251.711\n",
       "Balance           831.8455    287.459      2.894      0.004     268.394    1395.296\n",
       "ShotPower       -1234.1000    322.514     -3.826      0.000   -1866.262    -601.938\n",
       "Jumping           -91.6105    225.000     -0.407      0.684    -532.634     349.413\n",
       "Stamina           771.8079    261.189      2.955      0.003     259.849    1283.767\n",
       "Strength         1179.3792    272.289      4.331      0.000     645.663    1713.095\n",
       "LongShots         662.1502    343.207      1.929      0.054     -10.572    1334.872\n",
       "Aggression       -229.7008    241.165     -0.952      0.341    -702.410     243.008\n",
       "Interceptions     189.3008    349.249      0.542      0.588    -495.264     873.866\n",
       "Positioning       753.9676    332.317      2.269      0.023     102.590    1405.345\n",
       "Vision           -512.8898    314.196     -1.632      0.103   -1128.747     102.967\n",
       "Penalties         599.0759    298.530      2.007      0.045      13.925    1184.227\n",
       "Composure       -1675.2161    339.233     -4.938      0.000   -2340.149   -1010.283\n",
       "Marking            61.3220    280.417      0.219      0.827    -488.325     610.969\n",
       "StandingTackle   -256.3604    519.643     -0.493      0.622   -1274.915     762.195\n",
       "SlidingTackle     278.6254    481.464      0.579      0.563    -665.096    1222.347\n",
       "GKDiving        -2157.8749    648.490     -3.328      0.001   -3428.984    -886.766\n",
       "GKHandling       -923.1711    655.277     -1.409      0.159   -2207.583     361.241\n",
       "GKKicking        -924.0726    603.179     -1.532      0.126   -2106.367     258.222\n",
       "GKPositioning    -363.0774    641.463     -0.566      0.571   -1620.412     894.258\n",
       "GKReflexes       -507.0585    644.356     -0.787      0.431   -1770.065     755.948\n",
       "==============================================================================\n",
       "Omnibus:                     2361.056   Durbin-Watson:                   1.535\n",
       "Prob(Omnibus):                  0.000   Jarque-Bera (JB):             3512.259\n",
       "Skew:                           1.116   Prob(JB):                         0.00\n",
       "Kurtosis:                       3.286   Cond. No.                     4.05e+03\n",
       "==============================================================================\n",
       "\n",
       "Warnings:\n",
       "[1] Standard Errors assume that the covariance matrix of the errors is correctly specified.\n",
       "[2] The condition number is large, 4.05e+03. This might indicate that there are\n",
       "strong multicollinearity or other numerical problems.\n",
       "\"\"\""
      ]
     },
     "execution_count": 23,
     "metadata": {},
     "output_type": "execute_result"
    }
   ],
   "source": [
    "#code here\n",
    "import statsmodels.api as sm\n",
    "from statsmodels.formula.api import ols\n",
    "\n",
    "Y = df['Release Clause']\n",
    "X = df[['Finishing', 'HeadingAccuracy', 'ShortPassing', 'Volleys', 'Dribbling', 'Curve', 'FKAccuracy', 'LongPassing', 'BallControl', 'Acceleration', 'SprintSpeed', 'Agility', 'Reactions', 'Balance', 'ShotPower', 'Jumping', 'Stamina', 'Strength', 'LongShots', 'Aggression','Interceptions', 'Positioning', 'Vision', 'Penalties', 'Composure','Marking', 'StandingTackle', 'SlidingTackle', 'GKDiving', 'GKHandling','GKKicking', 'GKPositioning', 'GKReflexes']]\n",
    "X = sm.add_constant(X)\n",
    "model = sm.OLS(Y,X)\n",
    "results = model.fit()\n",
    "results.summary()\n",
    "\n"
   ]
  },
  {
   "cell_type": "markdown",
   "metadata": {},
   "source": [
    "### 7. Interpret the results of the regression.\n",
    "What do R-squared, p-values, and coefficients mean?  What would adding or removing variables do to the model?  According to this model, which is the most important factor in determining a high release clause?"
   ]
  },
  {
   "cell_type": "markdown",
   "metadata": {},
   "source": [
    "// answer here //"
   ]
  }
 ],
 "metadata": {
  "kernelspec": {
   "display_name": "Python 3",
   "language": "python",
   "name": "python3"
  },
  "language_info": {
   "codemirror_mode": {
    "name": "ipython",
    "version": 3
   },
   "file_extension": ".py",
   "mimetype": "text/x-python",
   "name": "python",
   "nbconvert_exporter": "python",
   "pygments_lexer": "ipython3",
   "version": "3.7.0"
  }
 },
 "nbformat": 4,
 "nbformat_minor": 2
}
